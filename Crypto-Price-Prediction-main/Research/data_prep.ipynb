{
 "cells": [
  {
   "cell_type": "markdown",
   "metadata": {},
   "source": [
    "# Preparing Data for Models"
   ]
  },
  {
   "cell_type": "code",
   "execution_count": 1,
   "metadata": {},
   "outputs": [],
   "source": [
    "import warnings\n",
    "warnings.filterwarnings('ignore')"
   ]
  },
  {
   "cell_type": "code",
   "execution_count": 2,
   "metadata": {},
   "outputs": [],
   "source": [
    "%matplotlib inline\n",
    "\n",
    "import numpy as np\n",
    "import pandas as pd\n",
    "import pandas_datareader.data as web\n",
    "from statsmodels.regression.rolling import RollingOLS\n",
    "import statsmodels.api as sm\n",
    "\n",
    "from sklearn.feature_selection import mutual_info_classif, mutual_info_regression\n",
    "\n",
    "import matplotlib.pyplot as plt\n",
    "import seaborn as sns"
   ]
  },
  {
   "cell_type": "markdown",
   "metadata": {},
   "source": [
    "We'll be using the TA-LIB library for handling technical indicators on the Stock Data. The below list of indicators is not by all means complete and will be tweaked for better performance"
   ]
  },
  {
   "cell_type": "code",
   "execution_count": 3,
   "metadata": {},
   "outputs": [],
   "source": [
    "\n",
    "from talib import RSI, BBANDS, MACD, NATR, ATR, ULTOSC"
   ]
  },
  {
   "cell_type": "code",
   "execution_count": 4,
   "metadata": {},
   "outputs": [],
   "source": [
    "sns.set_style('whitegrid')\n",
    "idx = pd.IndexSlice"
   ]
  },
  {
   "cell_type": "markdown",
   "metadata": {},
   "source": [
    "The available crypto( Only BTC for now) are available in data/assets.h5"
   ]
  },
  {
   "cell_type": "code",
   "execution_count": 5,
   "metadata": {},
   "outputs": [],
   "source": [
    "DATA_STORE = 'data/assets.h5'"
   ]
  },
  {
   "cell_type": "code",
   "execution_count": 10,
   "metadata": {},
   "outputs": [],
   "source": [
    "with pd.HDFStore(DATA_STORE) as store:\n",
    "    prices = (store['Crypto/prices']\n",
    "              .dropna())"
   ]
  },
  {
   "cell_type": "code",
   "execution_count": 11,
   "metadata": {},
   "outputs": [
    {
     "name": "stdout",
     "output_type": "stream",
     "text": [
      "<class 'pandas.core.frame.DataFrame'>\n",
      "DatetimeIndex: 1030 entries, 2019-03-08 to 2022-03-10\n",
      "Data columns (total 4 columns):\n",
      " #   Column  Non-Null Count  Dtype  \n",
      "---  ------  --------------  -----  \n",
      " 0   close   1030 non-null   float64\n",
      " 1   open    1030 non-null   float64\n",
      " 2   high    1030 non-null   float64\n",
      " 3   low     1030 non-null   float64\n",
      "dtypes: float64(4)\n",
      "memory usage: 40.2 KB\n"
     ]
    }
   ],
   "source": [
    "prices.info(null_counts=True)"
   ]
  },
  {
   "cell_type": "code",
   "execution_count": 12,
   "metadata": {},
   "outputs": [
    {
     "data": {
      "text/plain": [
       "date\n",
       "2019-03-08     3865.9\n",
       "2019-03-09     3944.4\n",
       "2019-03-10     3915.2\n",
       "2019-03-11     3865.1\n",
       "2019-03-12     3886.0\n",
       "               ...   \n",
       "2022-03-06    37951.3\n",
       "2022-03-07    38487.5\n",
       "2022-03-08    41623.2\n",
       "2022-03-09    39648.0\n",
       "2022-03-10    38491.0\n",
       "Name: close, Length: 1030, dtype: float64"
      ]
     },
     "execution_count": 12,
     "metadata": {},
     "output_type": "execute_result"
    }
   ],
   "source": [
    "prices.close"
   ]
  },
  {
   "cell_type": "markdown",
   "metadata": {},
   "source": [
    "## Adding Technical Indicators"
   ]
  },
  {
   "cell_type": "code",
   "execution_count": 13,
   "metadata": {},
   "outputs": [
    {
     "data": {
      "text/html": [
       "<div>\n",
       "<style scoped>\n",
       "    .dataframe tbody tr th:only-of-type {\n",
       "        vertical-align: middle;\n",
       "    }\n",
       "\n",
       "    .dataframe tbody tr th {\n",
       "        vertical-align: top;\n",
       "    }\n",
       "\n",
       "    .dataframe thead th {\n",
       "        text-align: right;\n",
       "    }\n",
       "</style>\n",
       "<table border=\"1\" class=\"dataframe\">\n",
       "  <thead>\n",
       "    <tr style=\"text-align: right;\">\n",
       "      <th></th>\n",
       "      <th>close</th>\n",
       "      <th>open</th>\n",
       "      <th>high</th>\n",
       "      <th>low</th>\n",
       "      <th>rsi</th>\n",
       "    </tr>\n",
       "    <tr>\n",
       "      <th>date</th>\n",
       "      <th></th>\n",
       "      <th></th>\n",
       "      <th></th>\n",
       "      <th></th>\n",
       "      <th></th>\n",
       "    </tr>\n",
       "  </thead>\n",
       "  <tbody>\n",
       "    <tr>\n",
       "      <th>2019-03-08</th>\n",
       "      <td>3865.9</td>\n",
       "      <td>3875.1</td>\n",
       "      <td>3929.0</td>\n",
       "      <td>3810.7</td>\n",
       "      <td>NaN</td>\n",
       "    </tr>\n",
       "    <tr>\n",
       "      <th>2019-03-09</th>\n",
       "      <td>3944.4</td>\n",
       "      <td>3865.9</td>\n",
       "      <td>3964.0</td>\n",
       "      <td>3859.7</td>\n",
       "      <td>NaN</td>\n",
       "    </tr>\n",
       "    <tr>\n",
       "      <th>2019-03-10</th>\n",
       "      <td>3915.2</td>\n",
       "      <td>3944.3</td>\n",
       "      <td>3944.5</td>\n",
       "      <td>3889.2</td>\n",
       "      <td>NaN</td>\n",
       "    </tr>\n",
       "    <tr>\n",
       "      <th>2019-03-11</th>\n",
       "      <td>3865.1</td>\n",
       "      <td>3915.6</td>\n",
       "      <td>3935.5</td>\n",
       "      <td>3842.4</td>\n",
       "      <td>NaN</td>\n",
       "    </tr>\n",
       "    <tr>\n",
       "      <th>2019-03-12</th>\n",
       "      <td>3886.0</td>\n",
       "      <td>3870.3</td>\n",
       "      <td>3900.1</td>\n",
       "      <td>3817.1</td>\n",
       "      <td>NaN</td>\n",
       "    </tr>\n",
       "    <tr>\n",
       "      <th>...</th>\n",
       "      <td>...</td>\n",
       "      <td>...</td>\n",
       "      <td>...</td>\n",
       "      <td>...</td>\n",
       "      <td>...</td>\n",
       "    </tr>\n",
       "    <tr>\n",
       "      <th>2022-03-06</th>\n",
       "      <td>37951.3</td>\n",
       "      <td>39468.9</td>\n",
       "      <td>38543.2</td>\n",
       "      <td>37597.7</td>\n",
       "      <td>43.838689</td>\n",
       "    </tr>\n",
       "    <tr>\n",
       "      <th>2022-03-07</th>\n",
       "      <td>38487.5</td>\n",
       "      <td>37931.7</td>\n",
       "      <td>38935.0</td>\n",
       "      <td>37886.6</td>\n",
       "      <td>45.230091</td>\n",
       "    </tr>\n",
       "    <tr>\n",
       "      <th>2022-03-08</th>\n",
       "      <td>41623.2</td>\n",
       "      <td>38558.0</td>\n",
       "      <td>41793.9</td>\n",
       "      <td>38663.3</td>\n",
       "      <td>52.622412</td>\n",
       "    </tr>\n",
       "    <tr>\n",
       "      <th>2022-03-09</th>\n",
       "      <td>39648.0</td>\n",
       "      <td>41637.0</td>\n",
       "      <td>42029.1</td>\n",
       "      <td>39466.2</td>\n",
       "      <td>48.208500</td>\n",
       "    </tr>\n",
       "    <tr>\n",
       "      <th>2022-03-10</th>\n",
       "      <td>38491.0</td>\n",
       "      <td>39543.1</td>\n",
       "      <td>39431.9</td>\n",
       "      <td>38236.4</td>\n",
       "      <td>45.785847</td>\n",
       "    </tr>\n",
       "  </tbody>\n",
       "</table>\n",
       "<p>1030 rows × 5 columns</p>\n",
       "</div>"
      ],
      "text/plain": [
       "              close     open     high      low        rsi\n",
       "date                                                     \n",
       "2019-03-08   3865.9   3875.1   3929.0   3810.7        NaN\n",
       "2019-03-09   3944.4   3865.9   3964.0   3859.7        NaN\n",
       "2019-03-10   3915.2   3944.3   3944.5   3889.2        NaN\n",
       "2019-03-11   3865.1   3915.6   3935.5   3842.4        NaN\n",
       "2019-03-12   3886.0   3870.3   3900.1   3817.1        NaN\n",
       "...             ...      ...      ...      ...        ...\n",
       "2022-03-06  37951.3  39468.9  38543.2  37597.7  43.838689\n",
       "2022-03-07  38487.5  37931.7  38935.0  37886.6  45.230091\n",
       "2022-03-08  41623.2  38558.0  41793.9  38663.3  52.622412\n",
       "2022-03-09  39648.0  41637.0  42029.1  39466.2  48.208500\n",
       "2022-03-10  38491.0  39543.1  39431.9  38236.4  45.785847\n",
       "\n",
       "[1030 rows x 5 columns]"
      ]
     },
     "execution_count": 13,
     "metadata": {},
     "output_type": "execute_result"
    }
   ],
   "source": [
    "prices['rsi'] = RSI(prices.close)\n",
    "prices"
   ]
  },
  {
   "cell_type": "code",
   "execution_count": 14,
   "metadata": {},
   "outputs": [
    {
     "data": {
      "text/plain": [
       "<AxesSubplot:xlabel='rsi', ylabel='Density'>"
      ]
     },
     "execution_count": 14,
     "metadata": {},
     "output_type": "execute_result"
    },
    {
     "data": {
      "image/png": "[encoded data removed]",
      "text/plain": [
       "<Figure size 432x288 with 1 Axes>"
      ]
     },
     "metadata": {},
     "output_type": "display_data"
    }
   ],
   "source": [
    "sns.distplot(prices.rsi)"
   ]
  },
  {
   "cell_type": "code",
   "execution_count": 15,
   "metadata": {},
   "outputs": [],
   "source": [
    "def compute_bb(close):\n",
    "    high, mid, low = BBANDS(np.log1p(close), timeperiod=20)\n",
    "    return pd.DataFrame({'bb_high': high,\n",
    "                         'bb_mid': mid,\n",
    "                         'bb_low': low}, index=close.index)"
   ]
  },
  {
   "cell_type": "code",
   "execution_count": 16,
   "metadata": {},
   "outputs": [],
   "source": [
    "\n",
    "temp = compute_bb(prices.close)\n",
    "prices =prices.join(temp)"
   ]
  },
  {
   "cell_type": "code",
   "execution_count": 17,
   "metadata": {},
   "outputs": [
    {
     "data": {
      "image/png": "[encoded data removed]",
      "text/plain": [
       "<Figure size 1080x288 with 3 Axes>"
      ]
     },
     "metadata": {},
     "output_type": "display_data"
    }
   ],
   "source": [
    "fig, axes = plt.subplots(ncols=3, figsize=(15,4))\n",
    "for i, col in enumerate(['bb_low', 'bb_mid', 'bb_low']):\n",
    "    sns.distplot(prices[col], ax=axes[i])\n",
    "    axes[i].set_title(col)\n",
    "fig.tight_layout()"
   ]
  },
  {
   "cell_type": "code",
   "execution_count": 18,
   "metadata": {},
   "outputs": [],
   "source": [
    "prices['bb_up'] = prices.bb_high.sub(np.log1p(prices.close))\n",
    "prices['bb_down'] = np.log1p(prices.close).sub(prices.bb_low)"
   ]
  },
  {
   "cell_type": "code",
   "execution_count": 19,
   "metadata": {},
   "outputs": [
    {
     "data": {
      "image/png": "[encoded data removed]",
      "text/plain": [
       "<Figure size 720x288 with 2 Axes>"
      ]
     },
     "metadata": {},
     "output_type": "display_data"
    }
   ],
   "source": [
    "fig, axes = plt.subplots(ncols=2, figsize=(10,4))\n",
    "for i, col in enumerate(['bb_down', 'bb_up']):\n",
    "    sns.boxenplot(prices[col], ax=axes[i])\n",
    "    axes[i].set_title(col)\n",
    "fig.tight_layout()"
   ]
  },
  {
   "cell_type": "code",
   "execution_count": 20,
   "metadata": {},
   "outputs": [],
   "source": [
    "def compute_atr(stock_data):\n",
    "    atr = ATR(stock_data['high'], \n",
    "              stock_data[\"low\"], \n",
    "              stock_data['close'], \n",
    "              timeperiod=14)\n",
    "    return atr.sub(atr.mean()).div(atr.std())\n",
    "def compute_natr(stock_data):\n",
    "    natr = NATR(stock_data['high'], \n",
    "              stock_data[\"low\"], \n",
    "              stock_data['close'], \n",
    "              timeperiod=14)\n",
    "    return natr"
   ]
  },
  {
   "cell_type": "code",
   "execution_count": 21,
   "metadata": {},
   "outputs": [],
   "source": [
    "prices['atr'] = compute_atr(prices)"
   ]
  },
  {
   "cell_type": "code",
   "execution_count": 22,
   "metadata": {},
   "outputs": [
    {
     "data": {
      "text/plain": [
       "<AxesSubplot:xlabel='atr', ylabel='Density'>"
      ]
     },
     "execution_count": 22,
     "metadata": {},
     "output_type": "execute_result"
    },
    {
     "data": {
      "image/png": "[encoded data removed]",
      "text/plain": [
       "<Figure size 432x288 with 1 Axes>"
      ]
     },
     "metadata": {},
     "output_type": "display_data"
    }
   ],
   "source": [
    "\n",
    "\n",
    "sns.distplot(prices.atr)"
   ]
  },
  {
   "cell_type": "code",
   "execution_count": 23,
   "metadata": {},
   "outputs": [],
   "source": [
    "prices['natr'] = compute_natr(prices)"
   ]
  },
  {
   "cell_type": "code",
   "execution_count": 24,
   "metadata": {},
   "outputs": [
    {
     "data": {
      "text/plain": [
       "<AxesSubplot:xlabel='natr', ylabel='Density'>"
      ]
     },
     "execution_count": 24,
     "metadata": {},
     "output_type": "execute_result"
    },
    {
     "data": {
      "image/png": "[encoded data removed]",
      "text/plain": [
       "<Figure size 432x288 with 1 Axes>"
      ]
     },
     "metadata": {},
     "output_type": "display_data"
    }
   ],
   "source": [
    "sns.distplot(prices.natr[prices.natr<10])"
   ]
  },
  {
   "cell_type": "code",
   "execution_count": 26,
   "metadata": {},
   "outputs": [
    {
     "data": {
      "text/plain": [
       "<AxesSubplot:xlabel='macd', ylabel='Density'>"
      ]
     },
     "execution_count": 26,
     "metadata": {},
     "output_type": "execute_result"
    },
    {
     "data": {
      "image/png": "[encoded data removed]",
      "text/plain": [
       "<Figure size 432x288 with 1 Axes>"
      ]
     },
     "metadata": {},
     "output_type": "display_data"
    }
   ],
   "source": [
    "\n",
    "def compute_macd(close):\n",
    "    macd = MACD(close)[0]\n",
    "    return macd.sub(macd.mean()).div(macd.std())\n",
    "\n",
    "prices['macd'] = compute_macd(prices['close'])\n",
    "sns.distplot(prices.macd)\n"
   ]
  },
  {
   "cell_type": "code",
   "execution_count": 27,
   "metadata": {},
   "outputs": [
    {
     "data": {
      "text/plain": [
       "<AxesSubplot:xlabel='ULTOSC', ylabel='Density'>"
      ]
     },
     "execution_count": 27,
     "metadata": {},
     "output_type": "execute_result"
    },
    {
     "data": {
      "image/png": "[encoded data removed]",
      "text/plain": [
       "<Figure size 432x288 with 1 Axes>"
      ]
     },
     "metadata": {},
     "output_type": "display_data"
    }
   ],
   "source": [
    "\n",
    "def compute_ULTOSC(stock_data):\n",
    "    ultosc = ULTOSC(stock_data['high'], \n",
    "              stock_data[\"low\"], \n",
    "              stock_data['close'], timeperiod1=7, timeperiod2=14, timeperiod3=28)\n",
    "    return ultosc\n",
    "\n",
    "prices['ULTOSC'] = compute_ULTOSC(prices)\n",
    "sns.distplot(prices.ULTOSC)\n"
   ]
  },
  {
   "cell_type": "code",
   "execution_count": 28,
   "metadata": {},
   "outputs": [
    {
     "data": {
      "text/plain": [
       "<bound method DataFrame.info of               close     open     high      low        rsi    bb_high  \\\n",
       "date                                                                   \n",
       "2019-03-08   3865.9   3875.1   3929.0   3810.7        NaN        NaN   \n",
       "2019-03-09   3944.4   3865.9   3964.0   3859.7        NaN        NaN   \n",
       "2019-03-10   3915.2   3944.3   3944.5   3889.2        NaN        NaN   \n",
       "2019-03-11   3865.1   3915.6   3935.5   3842.4        NaN        NaN   \n",
       "2019-03-12   3886.0   3870.3   3900.1   3817.1        NaN        NaN   \n",
       "...             ...      ...      ...      ...        ...        ...   \n",
       "2022-03-06  37951.3  39468.9  38543.2  37597.7  43.838689  10.736968   \n",
       "2022-03-07  38487.5  37931.7  38935.0  37886.6  45.230091  10.732980   \n",
       "2022-03-08  41623.2  38558.0  41793.9  38663.3  52.622412  10.726853   \n",
       "2022-03-09  39648.0  41637.0  42029.1  39466.2  48.208500  10.714998   \n",
       "2022-03-10  38491.0  39543.1  39431.9  38236.4  45.785847  10.701949   \n",
       "\n",
       "               bb_mid     bb_low     bb_up   bb_down       atr      natr  \\\n",
       "date                                                                       \n",
       "2019-03-08        NaN        NaN       NaN       NaN       NaN       NaN   \n",
       "2019-03-09        NaN        NaN       NaN       NaN       NaN       NaN   \n",
       "2019-03-10        NaN        NaN       NaN       NaN       NaN       NaN   \n",
       "2019-03-11        NaN        NaN       NaN       NaN       NaN       NaN   \n",
       "2019-03-12        NaN        NaN       NaN       NaN       NaN       NaN   \n",
       "...               ...        ...       ...       ...       ...       ...   \n",
       "2022-03-06  10.604933  10.472898  0.192882  0.071187  1.157787  5.424304   \n",
       "2022-03-07  10.600674  10.468368  0.174865  0.089746  1.075734  5.161253   \n",
       "2022-03-08  10.598488  10.470122  0.090416  0.166315  1.182948  4.998943   \n",
       "2022-03-09  10.593448  10.471898  0.127177  0.115923  1.222113  5.334851   \n",
       "2022-03-10  10.587111  10.472273  0.143743  0.085932  1.164966  5.364649   \n",
       "\n",
       "                macd     ULTOSC  \n",
       "date                             \n",
       "2019-03-08       NaN        NaN  \n",
       "2019-03-09       NaN        NaN  \n",
       "2019-03-10       NaN        NaN  \n",
       "2019-03-11       NaN        NaN  \n",
       "2019-03-12       NaN        NaN  \n",
       "...              ...        ...  \n",
       "2022-03-06 -0.131578  47.015345  \n",
       "2022-03-07 -0.245968  48.302288  \n",
       "2022-03-08 -0.167280  54.537696  \n",
       "2022-03-09 -0.211013  42.015853  \n",
       "2022-03-10 -0.306490  38.589354  \n",
       "\n",
       "[1030 rows x 14 columns]>"
      ]
     },
     "execution_count": 28,
     "metadata": {},
     "output_type": "execute_result"
    }
   ],
   "source": [
    "prices.info"
   ]
  },
  {
   "cell_type": "markdown",
   "metadata": {},
   "source": [
    "Calculating the return values for each day as the \"Target\" value to train the models on."
   ]
  },
  {
   "cell_type": "code",
   "execution_count": 29,
   "metadata": {},
   "outputs": [
    {
     "data": {
      "text/html": [
       "<div>\n",
       "<style scoped>\n",
       "    .dataframe tbody tr th:only-of-type {\n",
       "        vertical-align: middle;\n",
       "    }\n",
       "\n",
       "    .dataframe tbody tr th {\n",
       "        vertical-align: top;\n",
       "    }\n",
       "\n",
       "    .dataframe thead th {\n",
       "        text-align: right;\n",
       "    }\n",
       "</style>\n",
       "<table border=\"1\" class=\"dataframe\">\n",
       "  <thead>\n",
       "    <tr style=\"text-align: right;\">\n",
       "      <th></th>\n",
       "      <th>close</th>\n",
       "      <th>open</th>\n",
       "      <th>high</th>\n",
       "      <th>low</th>\n",
       "      <th>rsi</th>\n",
       "      <th>bb_high</th>\n",
       "      <th>bb_mid</th>\n",
       "      <th>bb_low</th>\n",
       "      <th>bb_up</th>\n",
       "      <th>bb_down</th>\n",
       "      <th>atr</th>\n",
       "      <th>natr</th>\n",
       "      <th>macd</th>\n",
       "      <th>ULTOSC</th>\n",
       "      <th>Target</th>\n",
       "    </tr>\n",
       "    <tr>\n",
       "      <th>date</th>\n",
       "      <th></th>\n",
       "      <th></th>\n",
       "      <th></th>\n",
       "      <th></th>\n",
       "      <th></th>\n",
       "      <th></th>\n",
       "      <th></th>\n",
       "      <th></th>\n",
       "      <th></th>\n",
       "      <th></th>\n",
       "      <th></th>\n",
       "      <th></th>\n",
       "      <th></th>\n",
       "      <th></th>\n",
       "      <th></th>\n",
       "    </tr>\n",
       "  </thead>\n",
       "  <tbody>\n",
       "    <tr>\n",
       "      <th>2019-03-08</th>\n",
       "      <td>3865.9</td>\n",
       "      <td>3875.1</td>\n",
       "      <td>3929.0</td>\n",
       "      <td>3810.7</td>\n",
       "      <td>NaN</td>\n",
       "      <td>NaN</td>\n",
       "      <td>NaN</td>\n",
       "      <td>NaN</td>\n",
       "      <td>NaN</td>\n",
       "      <td>NaN</td>\n",
       "      <td>NaN</td>\n",
       "      <td>NaN</td>\n",
       "      <td>NaN</td>\n",
       "      <td>NaN</td>\n",
       "      <td>0.020306</td>\n",
       "    </tr>\n",
       "    <tr>\n",
       "      <th>2019-03-09</th>\n",
       "      <td>3944.4</td>\n",
       "      <td>3865.9</td>\n",
       "      <td>3964.0</td>\n",
       "      <td>3859.7</td>\n",
       "      <td>NaN</td>\n",
       "      <td>NaN</td>\n",
       "      <td>NaN</td>\n",
       "      <td>NaN</td>\n",
       "      <td>NaN</td>\n",
       "      <td>NaN</td>\n",
       "      <td>NaN</td>\n",
       "      <td>NaN</td>\n",
       "      <td>NaN</td>\n",
       "      <td>NaN</td>\n",
       "      <td>-0.007403</td>\n",
       "    </tr>\n",
       "    <tr>\n",
       "      <th>2019-03-10</th>\n",
       "      <td>3915.2</td>\n",
       "      <td>3944.3</td>\n",
       "      <td>3944.5</td>\n",
       "      <td>3889.2</td>\n",
       "      <td>NaN</td>\n",
       "      <td>NaN</td>\n",
       "      <td>NaN</td>\n",
       "      <td>NaN</td>\n",
       "      <td>NaN</td>\n",
       "      <td>NaN</td>\n",
       "      <td>NaN</td>\n",
       "      <td>NaN</td>\n",
       "      <td>NaN</td>\n",
       "      <td>NaN</td>\n",
       "      <td>-0.012796</td>\n",
       "    </tr>\n",
       "    <tr>\n",
       "      <th>2019-03-11</th>\n",
       "      <td>3865.1</td>\n",
       "      <td>3915.6</td>\n",
       "      <td>3935.5</td>\n",
       "      <td>3842.4</td>\n",
       "      <td>NaN</td>\n",
       "      <td>NaN</td>\n",
       "      <td>NaN</td>\n",
       "      <td>NaN</td>\n",
       "      <td>NaN</td>\n",
       "      <td>NaN</td>\n",
       "      <td>NaN</td>\n",
       "      <td>NaN</td>\n",
       "      <td>NaN</td>\n",
       "      <td>NaN</td>\n",
       "      <td>0.005407</td>\n",
       "    </tr>\n",
       "    <tr>\n",
       "      <th>2019-03-12</th>\n",
       "      <td>3886.0</td>\n",
       "      <td>3870.3</td>\n",
       "      <td>3900.1</td>\n",
       "      <td>3817.1</td>\n",
       "      <td>NaN</td>\n",
       "      <td>NaN</td>\n",
       "      <td>NaN</td>\n",
       "      <td>NaN</td>\n",
       "      <td>NaN</td>\n",
       "      <td>NaN</td>\n",
       "      <td>NaN</td>\n",
       "      <td>NaN</td>\n",
       "      <td>NaN</td>\n",
       "      <td>NaN</td>\n",
       "      <td>-0.005430</td>\n",
       "    </tr>\n",
       "    <tr>\n",
       "      <th>...</th>\n",
       "      <td>...</td>\n",
       "      <td>...</td>\n",
       "      <td>...</td>\n",
       "      <td>...</td>\n",
       "      <td>...</td>\n",
       "      <td>...</td>\n",
       "      <td>...</td>\n",
       "      <td>...</td>\n",
       "      <td>...</td>\n",
       "      <td>...</td>\n",
       "      <td>...</td>\n",
       "      <td>...</td>\n",
       "      <td>...</td>\n",
       "      <td>...</td>\n",
       "      <td>...</td>\n",
       "    </tr>\n",
       "    <tr>\n",
       "      <th>2022-03-06</th>\n",
       "      <td>37951.3</td>\n",
       "      <td>39468.9</td>\n",
       "      <td>38543.2</td>\n",
       "      <td>37597.7</td>\n",
       "      <td>43.838689</td>\n",
       "      <td>10.736968</td>\n",
       "      <td>10.604933</td>\n",
       "      <td>10.472898</td>\n",
       "      <td>0.192882</td>\n",
       "      <td>0.071187</td>\n",
       "      <td>1.157787</td>\n",
       "      <td>5.424304</td>\n",
       "      <td>-0.131578</td>\n",
       "      <td>47.015345</td>\n",
       "      <td>0.014129</td>\n",
       "    </tr>\n",
       "    <tr>\n",
       "      <th>2022-03-07</th>\n",
       "      <td>38487.5</td>\n",
       "      <td>37931.7</td>\n",
       "      <td>38935.0</td>\n",
       "      <td>37886.6</td>\n",
       "      <td>45.230091</td>\n",
       "      <td>10.732980</td>\n",
       "      <td>10.600674</td>\n",
       "      <td>10.468368</td>\n",
       "      <td>0.174865</td>\n",
       "      <td>0.089746</td>\n",
       "      <td>1.075734</td>\n",
       "      <td>5.161253</td>\n",
       "      <td>-0.245968</td>\n",
       "      <td>48.302288</td>\n",
       "      <td>0.081473</td>\n",
       "    </tr>\n",
       "    <tr>\n",
       "      <th>2022-03-08</th>\n",
       "      <td>41623.2</td>\n",
       "      <td>38558.0</td>\n",
       "      <td>41793.9</td>\n",
       "      <td>38663.3</td>\n",
       "      <td>52.622412</td>\n",
       "      <td>10.726853</td>\n",
       "      <td>10.598488</td>\n",
       "      <td>10.470122</td>\n",
       "      <td>0.090416</td>\n",
       "      <td>0.166315</td>\n",
       "      <td>1.182948</td>\n",
       "      <td>4.998943</td>\n",
       "      <td>-0.167280</td>\n",
       "      <td>54.537696</td>\n",
       "      <td>-0.047454</td>\n",
       "    </tr>\n",
       "    <tr>\n",
       "      <th>2022-03-09</th>\n",
       "      <td>39648.0</td>\n",
       "      <td>41637.0</td>\n",
       "      <td>42029.1</td>\n",
       "      <td>39466.2</td>\n",
       "      <td>48.208500</td>\n",
       "      <td>10.714998</td>\n",
       "      <td>10.593448</td>\n",
       "      <td>10.471898</td>\n",
       "      <td>0.127177</td>\n",
       "      <td>0.115923</td>\n",
       "      <td>1.222113</td>\n",
       "      <td>5.334851</td>\n",
       "      <td>-0.211013</td>\n",
       "      <td>42.015853</td>\n",
       "      <td>-0.029182</td>\n",
       "    </tr>\n",
       "    <tr>\n",
       "      <th>2022-03-10</th>\n",
       "      <td>38491.0</td>\n",
       "      <td>39543.1</td>\n",
       "      <td>39431.9</td>\n",
       "      <td>38236.4</td>\n",
       "      <td>45.785847</td>\n",
       "      <td>10.701949</td>\n",
       "      <td>10.587111</td>\n",
       "      <td>10.472273</td>\n",
       "      <td>0.143743</td>\n",
       "      <td>0.085932</td>\n",
       "      <td>1.164966</td>\n",
       "      <td>5.364649</td>\n",
       "      <td>-0.306490</td>\n",
       "      <td>38.589354</td>\n",
       "      <td>NaN</td>\n",
       "    </tr>\n",
       "  </tbody>\n",
       "</table>\n",
       "<p>1030 rows × 15 columns</p>\n",
       "</div>"
      ],
      "text/plain": [
       "              close     open     high      low        rsi    bb_high  \\\n",
       "date                                                                   \n",
       "2019-03-08   3865.9   3875.1   3929.0   3810.7        NaN        NaN   \n",
       "2019-03-09   3944.4   3865.9   3964.0   3859.7        NaN        NaN   \n",
       "2019-03-10   3915.2   3944.3   3944.5   3889.2        NaN        NaN   \n",
       "2019-03-11   3865.1   3915.6   3935.5   3842.4        NaN        NaN   \n",
       "2019-03-12   3886.0   3870.3   3900.1   3817.1        NaN        NaN   \n",
       "...             ...      ...      ...      ...        ...        ...   \n",
       "2022-03-06  37951.3  39468.9  38543.2  37597.7  43.838689  10.736968   \n",
       "2022-03-07  38487.5  37931.7  38935.0  37886.6  45.230091  10.732980   \n",
       "2022-03-08  41623.2  38558.0  41793.9  38663.3  52.622412  10.726853   \n",
       "2022-03-09  39648.0  41637.0  42029.1  39466.2  48.208500  10.714998   \n",
       "2022-03-10  38491.0  39543.1  39431.9  38236.4  45.785847  10.701949   \n",
       "\n",
       "               bb_mid     bb_low     bb_up   bb_down       atr      natr  \\\n",
       "date                                                                       \n",
       "2019-03-08        NaN        NaN       NaN       NaN       NaN       NaN   \n",
       "2019-03-09        NaN        NaN       NaN       NaN       NaN       NaN   \n",
       "2019-03-10        NaN        NaN       NaN       NaN       NaN       NaN   \n",
       "2019-03-11        NaN        NaN       NaN       NaN       NaN       NaN   \n",
       "2019-03-12        NaN        NaN       NaN       NaN       NaN       NaN   \n",
       "...               ...        ...       ...       ...       ...       ...   \n",
       "2022-03-06  10.604933  10.472898  0.192882  0.071187  1.157787  5.424304   \n",
       "2022-03-07  10.600674  10.468368  0.174865  0.089746  1.075734  5.161253   \n",
       "2022-03-08  10.598488  10.470122  0.090416  0.166315  1.182948  4.998943   \n",
       "2022-03-09  10.593448  10.471898  0.127177  0.115923  1.222113  5.334851   \n",
       "2022-03-10  10.587111  10.472273  0.143743  0.085932  1.164966  5.364649   \n",
       "\n",
       "                macd     ULTOSC    Target  \n",
       "date                                       \n",
       "2019-03-08       NaN        NaN  0.020306  \n",
       "2019-03-09       NaN        NaN -0.007403  \n",
       "2019-03-10       NaN        NaN -0.012796  \n",
       "2019-03-11       NaN        NaN  0.005407  \n",
       "2019-03-12       NaN        NaN -0.005430  \n",
       "...              ...        ...       ...  \n",
       "2022-03-06 -0.131578  47.015345  0.014129  \n",
       "2022-03-07 -0.245968  48.302288  0.081473  \n",
       "2022-03-08 -0.167280  54.537696 -0.047454  \n",
       "2022-03-09 -0.211013  42.015853 -0.029182  \n",
       "2022-03-10 -0.306490  38.589354       NaN  \n",
       "\n",
       "[1030 rows x 15 columns]"
      ]
     },
     "execution_count": 29,
     "metadata": {},
     "output_type": "execute_result"
    }
   ],
   "source": [
    "a = list(prices[1:]['close'].values/prices['close'][:-1].values - 1)\n",
    "a.extend([np.nan])\n",
    "prices['Target'] = np.array(a)\n",
    "prices"
   ]
  },
  {
   "cell_type": "code",
   "execution_count": 30,
   "metadata": {},
   "outputs": [
    {
     "data": {
      "text/html": [
       "<div>\n",
       "<style scoped>\n",
       "    .dataframe tbody tr th:only-of-type {\n",
       "        vertical-align: middle;\n",
       "    }\n",
       "\n",
       "    .dataframe tbody tr th {\n",
       "        vertical-align: top;\n",
       "    }\n",
       "\n",
       "    .dataframe thead th {\n",
       "        text-align: right;\n",
       "    }\n",
       "</style>\n",
       "<table border=\"1\" class=\"dataframe\">\n",
       "  <thead>\n",
       "    <tr style=\"text-align: right;\">\n",
       "      <th></th>\n",
       "      <th>close</th>\n",
       "      <th>open</th>\n",
       "      <th>high</th>\n",
       "      <th>low</th>\n",
       "      <th>rsi</th>\n",
       "      <th>bb_high</th>\n",
       "      <th>bb_mid</th>\n",
       "      <th>bb_low</th>\n",
       "      <th>bb_up</th>\n",
       "      <th>bb_down</th>\n",
       "      <th>atr</th>\n",
       "      <th>natr</th>\n",
       "      <th>macd</th>\n",
       "      <th>ULTOSC</th>\n",
       "      <th>Target</th>\n",
       "    </tr>\n",
       "    <tr>\n",
       "      <th>date</th>\n",
       "      <th></th>\n",
       "      <th></th>\n",
       "      <th></th>\n",
       "      <th></th>\n",
       "      <th></th>\n",
       "      <th></th>\n",
       "      <th></th>\n",
       "      <th></th>\n",
       "      <th></th>\n",
       "      <th></th>\n",
       "      <th></th>\n",
       "      <th></th>\n",
       "      <th></th>\n",
       "      <th></th>\n",
       "      <th></th>\n",
       "    </tr>\n",
       "  </thead>\n",
       "  <tbody>\n",
       "    <tr>\n",
       "      <th>2019-05-25</th>\n",
       "      <td>8015.8</td>\n",
       "      <td>8009.9</td>\n",
       "      <td>8046.5</td>\n",
       "      <td>7997.6</td>\n",
       "      <td>72.124449</td>\n",
       "      <td>9.116024</td>\n",
       "      <td>8.894723</td>\n",
       "      <td>8.673422</td>\n",
       "      <td>0.126729</td>\n",
       "      <td>0.315872</td>\n",
       "      <td>-0.842657</td>\n",
       "      <td>3.735326</td>\n",
       "      <td>0.526725</td>\n",
       "      <td>51.734117</td>\n",
       "      <td>0.081190</td>\n",
       "    </tr>\n",
       "    <tr>\n",
       "      <th>2019-05-26</th>\n",
       "      <td>8666.6</td>\n",
       "      <td>7986.2</td>\n",
       "      <td>8838.9</td>\n",
       "      <td>8627.9</td>\n",
       "      <td>77.228970</td>\n",
       "      <td>9.126078</td>\n",
       "      <td>8.913573</td>\n",
       "      <td>8.701069</td>\n",
       "      <td>0.058730</td>\n",
       "      <td>0.366278</td>\n",
       "      <td>-0.800121</td>\n",
       "      <td>3.886440</td>\n",
       "      <td>0.529964</td>\n",
       "      <td>60.182545</td>\n",
       "      <td>0.013373</td>\n",
       "    </tr>\n",
       "    <tr>\n",
       "      <th>2019-05-27</th>\n",
       "      <td>8782.5</td>\n",
       "      <td>8745.3</td>\n",
       "      <td>8794.1</td>\n",
       "      <td>8724.6</td>\n",
       "      <td>78.001551</td>\n",
       "      <td>9.129008</td>\n",
       "      <td>8.933630</td>\n",
       "      <td>8.738252</td>\n",
       "      <td>0.048377</td>\n",
       "      <td>0.342378</td>\n",
       "      <td>-0.817123</td>\n",
       "      <td>3.664909</td>\n",
       "      <td>0.530787</td>\n",
       "      <td>61.370544</td>\n",
       "      <td>-0.015713</td>\n",
       "    </tr>\n",
       "    <tr>\n",
       "      <th>2019-05-28</th>\n",
       "      <td>8644.5</td>\n",
       "      <td>8772.6</td>\n",
       "      <td>8715.6</td>\n",
       "      <td>8617.6</td>\n",
       "      <td>74.749552</td>\n",
       "      <td>9.126294</td>\n",
       "      <td>8.951213</td>\n",
       "      <td>8.776132</td>\n",
       "      <td>0.061499</td>\n",
       "      <td>0.288662</td>\n",
       "      <td>-0.829873</td>\n",
       "      <td>3.593712</td>\n",
       "      <td>0.516155</td>\n",
       "      <td>59.262653</td>\n",
       "      <td>-0.006235</td>\n",
       "    </tr>\n",
       "    <tr>\n",
       "      <th>2019-05-29</th>\n",
       "      <td>8590.6</td>\n",
       "      <td>8656.4</td>\n",
       "      <td>8715.1</td>\n",
       "      <td>8558.5</td>\n",
       "      <td>73.461302</td>\n",
       "      <td>9.117993</td>\n",
       "      <td>8.967312</td>\n",
       "      <td>8.816632</td>\n",
       "      <td>0.059452</td>\n",
       "      <td>0.241909</td>\n",
       "      <td>-0.842386</td>\n",
       "      <td>3.488165</td>\n",
       "      <td>0.494069</td>\n",
       "      <td>62.278006</td>\n",
       "      <td>-0.028892</td>\n",
       "    </tr>\n",
       "    <tr>\n",
       "      <th>...</th>\n",
       "      <td>...</td>\n",
       "      <td>...</td>\n",
       "      <td>...</td>\n",
       "      <td>...</td>\n",
       "      <td>...</td>\n",
       "      <td>...</td>\n",
       "      <td>...</td>\n",
       "      <td>...</td>\n",
       "      <td>...</td>\n",
       "      <td>...</td>\n",
       "      <td>...</td>\n",
       "      <td>...</td>\n",
       "      <td>...</td>\n",
       "      <td>...</td>\n",
       "      <td>...</td>\n",
       "    </tr>\n",
       "    <tr>\n",
       "      <th>2022-03-03</th>\n",
       "      <td>42449.2</td>\n",
       "      <td>43912.8</td>\n",
       "      <td>44077.2</td>\n",
       "      <td>41840.8</td>\n",
       "      <td>54.653749</td>\n",
       "      <td>10.740591</td>\n",
       "      <td>10.610242</td>\n",
       "      <td>10.479892</td>\n",
       "      <td>0.084504</td>\n",
       "      <td>0.176195</td>\n",
       "      <td>0.913484</td>\n",
       "      <td>4.343438</td>\n",
       "      <td>0.050493</td>\n",
       "      <td>57.935356</td>\n",
       "      <td>-0.105960</td>\n",
       "    </tr>\n",
       "    <tr>\n",
       "      <th>2022-03-06</th>\n",
       "      <td>37951.3</td>\n",
       "      <td>39468.9</td>\n",
       "      <td>38543.2</td>\n",
       "      <td>37597.7</td>\n",
       "      <td>43.838689</td>\n",
       "      <td>10.736968</td>\n",
       "      <td>10.604933</td>\n",
       "      <td>10.472898</td>\n",
       "      <td>0.192882</td>\n",
       "      <td>0.071187</td>\n",
       "      <td>1.157787</td>\n",
       "      <td>5.424304</td>\n",
       "      <td>-0.131578</td>\n",
       "      <td>47.015345</td>\n",
       "      <td>0.014129</td>\n",
       "    </tr>\n",
       "    <tr>\n",
       "      <th>2022-03-07</th>\n",
       "      <td>38487.5</td>\n",
       "      <td>37931.7</td>\n",
       "      <td>38935.0</td>\n",
       "      <td>37886.6</td>\n",
       "      <td>45.230091</td>\n",
       "      <td>10.732980</td>\n",
       "      <td>10.600674</td>\n",
       "      <td>10.468368</td>\n",
       "      <td>0.174865</td>\n",
       "      <td>0.089746</td>\n",
       "      <td>1.075734</td>\n",
       "      <td>5.161253</td>\n",
       "      <td>-0.245968</td>\n",
       "      <td>48.302288</td>\n",
       "      <td>0.081473</td>\n",
       "    </tr>\n",
       "    <tr>\n",
       "      <th>2022-03-08</th>\n",
       "      <td>41623.2</td>\n",
       "      <td>38558.0</td>\n",
       "      <td>41793.9</td>\n",
       "      <td>38663.3</td>\n",
       "      <td>52.622412</td>\n",
       "      <td>10.726853</td>\n",
       "      <td>10.598488</td>\n",
       "      <td>10.470122</td>\n",
       "      <td>0.090416</td>\n",
       "      <td>0.166315</td>\n",
       "      <td>1.182948</td>\n",
       "      <td>4.998943</td>\n",
       "      <td>-0.167280</td>\n",
       "      <td>54.537696</td>\n",
       "      <td>-0.047454</td>\n",
       "    </tr>\n",
       "    <tr>\n",
       "      <th>2022-03-09</th>\n",
       "      <td>39648.0</td>\n",
       "      <td>41637.0</td>\n",
       "      <td>42029.1</td>\n",
       "      <td>39466.2</td>\n",
       "      <td>48.208500</td>\n",
       "      <td>10.714998</td>\n",
       "      <td>10.593448</td>\n",
       "      <td>10.471898</td>\n",
       "      <td>0.127177</td>\n",
       "      <td>0.115923</td>\n",
       "      <td>1.222113</td>\n",
       "      <td>5.334851</td>\n",
       "      <td>-0.211013</td>\n",
       "      <td>42.015853</td>\n",
       "      <td>-0.029182</td>\n",
       "    </tr>\n",
       "  </tbody>\n",
       "</table>\n",
       "<p>996 rows × 15 columns</p>\n",
       "</div>"
      ],
      "text/plain": [
       "              close     open     high      low        rsi    bb_high  \\\n",
       "date                                                                   \n",
       "2019-05-25   8015.8   8009.9   8046.5   7997.6  72.124449   9.116024   \n",
       "2019-05-26   8666.6   7986.2   8838.9   8627.9  77.228970   9.126078   \n",
       "2019-05-27   8782.5   8745.3   8794.1   8724.6  78.001551   9.129008   \n",
       "2019-05-28   8644.5   8772.6   8715.6   8617.6  74.749552   9.126294   \n",
       "2019-05-29   8590.6   8656.4   8715.1   8558.5  73.461302   9.117993   \n",
       "...             ...      ...      ...      ...        ...        ...   \n",
       "2022-03-03  42449.2  43912.8  44077.2  41840.8  54.653749  10.740591   \n",
       "2022-03-06  37951.3  39468.9  38543.2  37597.7  43.838689  10.736968   \n",
       "2022-03-07  38487.5  37931.7  38935.0  37886.6  45.230091  10.732980   \n",
       "2022-03-08  41623.2  38558.0  41793.9  38663.3  52.622412  10.726853   \n",
       "2022-03-09  39648.0  41637.0  42029.1  39466.2  48.208500  10.714998   \n",
       "\n",
       "               bb_mid     bb_low     bb_up   bb_down       atr      natr  \\\n",
       "date                                                                       \n",
       "2019-05-25   8.894723   8.673422  0.126729  0.315872 -0.842657  3.735326   \n",
       "2019-05-26   8.913573   8.701069  0.058730  0.366278 -0.800121  3.886440   \n",
       "2019-05-27   8.933630   8.738252  0.048377  0.342378 -0.817123  3.664909   \n",
       "2019-05-28   8.951213   8.776132  0.061499  0.288662 -0.829873  3.593712   \n",
       "2019-05-29   8.967312   8.816632  0.059452  0.241909 -0.842386  3.488165   \n",
       "...               ...        ...       ...       ...       ...       ...   \n",
       "2022-03-03  10.610242  10.479892  0.084504  0.176195  0.913484  4.343438   \n",
       "2022-03-06  10.604933  10.472898  0.192882  0.071187  1.157787  5.424304   \n",
       "2022-03-07  10.600674  10.468368  0.174865  0.089746  1.075734  5.161253   \n",
       "2022-03-08  10.598488  10.470122  0.090416  0.166315  1.182948  4.998943   \n",
       "2022-03-09  10.593448  10.471898  0.127177  0.115923  1.222113  5.334851   \n",
       "\n",
       "                macd     ULTOSC    Target  \n",
       "date                                       \n",
       "2019-05-25  0.526725  51.734117  0.081190  \n",
       "2019-05-26  0.529964  60.182545  0.013373  \n",
       "2019-05-27  0.530787  61.370544 -0.015713  \n",
       "2019-05-28  0.516155  59.262653 -0.006235  \n",
       "2019-05-29  0.494069  62.278006 -0.028892  \n",
       "...              ...        ...       ...  \n",
       "2022-03-03  0.050493  57.935356 -0.105960  \n",
       "2022-03-06 -0.131578  47.015345  0.014129  \n",
       "2022-03-07 -0.245968  48.302288  0.081473  \n",
       "2022-03-08 -0.167280  54.537696 -0.047454  \n",
       "2022-03-09 -0.211013  42.015853 -0.029182  \n",
       "\n",
       "[996 rows x 15 columns]"
      ]
     },
     "execution_count": 30,
     "metadata": {},
     "output_type": "execute_result"
    }
   ],
   "source": [
    "prices = prices.dropna()\n",
    "prices"
   ]
  },
  {
   "cell_type": "markdown",
   "metadata": {},
   "source": [
    "The final data is stored in data.h5."
   ]
  },
  {
   "cell_type": "code",
   "execution_count": 168,
   "metadata": {},
   "outputs": [],
   "source": [
    "\n",
    "with pd.HDFStore('data.h5') as store:\n",
    "    store.put('CRYPTO/DAILY', prices)\n",
    "\n"
   ]
  }
 ],
 "metadata": {
  "interpreter": {
   "hash": "0fe8a5d8b8f99b3310a2ee7c9493c2e50792da40f6a7326d5e94d22de55d8459"
  },
  "kernelspec": {
   "display_name": "Python 3.8.10 64-bit",
   "language": "python",
   "name": "python3"
  },
  "language_info": {
   "codemirror_mode": {
    "name": "ipython",
    "version": 3
   },
   "file_extension": ".py",
   "mimetype": "text/x-python",
   "name": "python",
   "nbconvert_exporter": "python",
   "pygments_lexer": "ipython3",
   "version": "3.8.10"
  },
  "orig_nbformat": 4
 },
 "nbformat": 4,
 "nbformat_minor": 2
}
