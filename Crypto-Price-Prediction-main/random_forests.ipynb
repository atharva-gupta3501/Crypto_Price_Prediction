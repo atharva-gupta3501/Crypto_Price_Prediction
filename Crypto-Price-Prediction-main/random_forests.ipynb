{
 "cells": [
  {
   "cell_type": "markdown",
   "metadata": {},
   "source": [
    "### Using Random Forests to predict Price Movement"
   ]
  },
  {
   "cell_type": "code",
   "execution_count": 1,
   "metadata": {},
   "outputs": [],
   "source": [
    "import warnings\n",
    "warnings.filterwarnings('ignore')"
   ]
  },
  {
   "cell_type": "code",
   "execution_count": 2,
   "metadata": {},
   "outputs": [],
   "source": [
    "%matplotlib inline\n",
    "\n",
    "from pathlib import Path\n",
    "import os, sys\n",
    "import numpy as np\n",
    "\n",
    "from numpy.random import choice\n",
    "import pandas as pd\n",
    "from scipy.stats import spearmanr\n",
    "\n",
    "from sklearn.ensemble import RandomForestRegressor, RandomForestClassifier\n",
    "from sklearn.model_selection import GridSearchCV, cross_val_score,train_test_split\n",
    "from sklearn.metrics import make_scorer,accuracy_score\n",
    "import joblib\n",
    "\n",
    "import matplotlib.pyplot as plt\n",
    "import seaborn as sns\n"
   ]
  },
  {
   "cell_type": "code",
   "execution_count": 3,
   "metadata": {},
   "outputs": [],
   "source": [
    "sys.path.insert(1, os.path.join(sys.path[0], '..'))\n",
    "from utils import MultipleTimeSeriesCV"
   ]
  },
  {
   "cell_type": "code",
   "execution_count": 4,
   "metadata": {},
   "outputs": [],
   "source": [
    "sns.set_style('white')\n",
    "np.random.seed(seed=42)"
   ]
  },
  {
   "cell_type": "code",
   "execution_count": 5,
   "metadata": {},
   "outputs": [],
   "source": [
    "results_path = Path('results', 'random_forest')\n",
    "if not results_path.exists():\n",
    "    results_path.mkdir(parents=True)\n",
    "    "
   ]
  },
  {
   "cell_type": "markdown",
   "metadata": {},
   "source": [
    "###### Importing data prepared in data_prep.ipynb"
   ]
  },
  {
   "cell_type": "code",
   "execution_count": 44,
   "metadata": {},
   "outputs": [
    {
     "name": "stdout",
     "output_type": "stream",
     "text": [
      "<class 'pandas.core.frame.DataFrame'>\n",
      "DatetimeIndex: 996 entries, 2019-05-25 to 2022-03-09\n",
      "Data columns (total 15 columns):\n",
      " #   Column   Non-Null Count  Dtype  \n",
      "---  ------   --------------  -----  \n",
      " 0   close    996 non-null    float64\n",
      " 1   open     996 non-null    float64\n",
      " 2   high     996 non-null    float64\n",
      " 3   low      996 non-null    float64\n",
      " 4   rsi      996 non-null    float64\n",
      " 5   bb_high  996 non-null    float64\n",
      " 6   bb_mid   996 non-null    float64\n",
      " 7   bb_low   996 non-null    float64\n",
      " 8   bb_up    996 non-null    float64\n",
      " 9   bb_down  996 non-null    float64\n",
      " 10  atr      996 non-null    float64\n",
      " 11  natr     996 non-null    float64\n",
      " 12  macd     996 non-null    float64\n",
      " 13  ULTOSC   996 non-null    float64\n",
      " 14  Target   996 non-null    float64\n",
      "dtypes: float64(15)\n",
      "memory usage: 124.5 KB\n"
     ]
    },
    {
     "data": {
      "text/html": [
       "<div>\n",
       "<style scoped>\n",
       "    .dataframe tbody tr th:only-of-type {\n",
       "        vertical-align: middle;\n",
       "    }\n",
       "\n",
       "    .dataframe tbody tr th {\n",
       "        vertical-align: top;\n",
       "    }\n",
       "\n",
       "    .dataframe thead th {\n",
       "        text-align: right;\n",
       "    }\n",
       "</style>\n",
       "<table border=\"1\" class=\"dataframe\">\n",
       "  <thead>\n",
       "    <tr style=\"text-align: right;\">\n",
       "      <th></th>\n",
       "      <th>close</th>\n",
       "      <th>open</th>\n",
       "      <th>high</th>\n",
       "      <th>low</th>\n",
       "      <th>rsi</th>\n",
       "      <th>bb_high</th>\n",
       "      <th>bb_mid</th>\n",
       "      <th>bb_low</th>\n",
       "      <th>bb_up</th>\n",
       "      <th>bb_down</th>\n",
       "      <th>atr</th>\n",
       "      <th>natr</th>\n",
       "      <th>macd</th>\n",
       "      <th>ULTOSC</th>\n",
       "      <th>Target</th>\n",
       "    </tr>\n",
       "    <tr>\n",
       "      <th>date</th>\n",
       "      <th></th>\n",
       "      <th></th>\n",
       "      <th></th>\n",
       "      <th></th>\n",
       "      <th></th>\n",
       "      <th></th>\n",
       "      <th></th>\n",
       "      <th></th>\n",
       "      <th></th>\n",
       "      <th></th>\n",
       "      <th></th>\n",
       "      <th></th>\n",
       "      <th></th>\n",
       "      <th></th>\n",
       "      <th></th>\n",
       "    </tr>\n",
       "  </thead>\n",
       "  <tbody>\n",
       "    <tr>\n",
       "      <th>2019-05-25</th>\n",
       "      <td>8015.8</td>\n",
       "      <td>8009.9</td>\n",
       "      <td>8046.5</td>\n",
       "      <td>7997.6</td>\n",
       "      <td>72.124449</td>\n",
       "      <td>9.116024</td>\n",
       "      <td>8.894723</td>\n",
       "      <td>8.673422</td>\n",
       "      <td>0.126729</td>\n",
       "      <td>0.315872</td>\n",
       "      <td>-0.842657</td>\n",
       "      <td>3.735326</td>\n",
       "      <td>0.526725</td>\n",
       "      <td>51.734117</td>\n",
       "      <td>0.081190</td>\n",
       "    </tr>\n",
       "    <tr>\n",
       "      <th>2019-05-26</th>\n",
       "      <td>8666.6</td>\n",
       "      <td>7986.2</td>\n",
       "      <td>8838.9</td>\n",
       "      <td>8627.9</td>\n",
       "      <td>77.228970</td>\n",
       "      <td>9.126078</td>\n",
       "      <td>8.913573</td>\n",
       "      <td>8.701069</td>\n",
       "      <td>0.058730</td>\n",
       "      <td>0.366278</td>\n",
       "      <td>-0.800121</td>\n",
       "      <td>3.886440</td>\n",
       "      <td>0.529964</td>\n",
       "      <td>60.182545</td>\n",
       "      <td>0.013373</td>\n",
       "    </tr>\n",
       "    <tr>\n",
       "      <th>2019-05-27</th>\n",
       "      <td>8782.5</td>\n",
       "      <td>8745.3</td>\n",
       "      <td>8794.1</td>\n",
       "      <td>8724.6</td>\n",
       "      <td>78.001551</td>\n",
       "      <td>9.129008</td>\n",
       "      <td>8.933630</td>\n",
       "      <td>8.738252</td>\n",
       "      <td>0.048377</td>\n",
       "      <td>0.342378</td>\n",
       "      <td>-0.817123</td>\n",
       "      <td>3.664909</td>\n",
       "      <td>0.530787</td>\n",
       "      <td>61.370544</td>\n",
       "      <td>-0.015713</td>\n",
       "    </tr>\n",
       "    <tr>\n",
       "      <th>2019-05-28</th>\n",
       "      <td>8644.5</td>\n",
       "      <td>8772.6</td>\n",
       "      <td>8715.6</td>\n",
       "      <td>8617.6</td>\n",
       "      <td>74.749552</td>\n",
       "      <td>9.126294</td>\n",
       "      <td>8.951213</td>\n",
       "      <td>8.776132</td>\n",
       "      <td>0.061499</td>\n",
       "      <td>0.288662</td>\n",
       "      <td>-0.829873</td>\n",
       "      <td>3.593712</td>\n",
       "      <td>0.516155</td>\n",
       "      <td>59.262653</td>\n",
       "      <td>-0.006235</td>\n",
       "    </tr>\n",
       "    <tr>\n",
       "      <th>2019-05-29</th>\n",
       "      <td>8590.6</td>\n",
       "      <td>8656.4</td>\n",
       "      <td>8715.1</td>\n",
       "      <td>8558.5</td>\n",
       "      <td>73.461302</td>\n",
       "      <td>9.117993</td>\n",
       "      <td>8.967312</td>\n",
       "      <td>8.816632</td>\n",
       "      <td>0.059452</td>\n",
       "      <td>0.241909</td>\n",
       "      <td>-0.842386</td>\n",
       "      <td>3.488165</td>\n",
       "      <td>0.494069</td>\n",
       "      <td>62.278006</td>\n",
       "      <td>-0.028892</td>\n",
       "    </tr>\n",
       "    <tr>\n",
       "      <th>...</th>\n",
       "      <td>...</td>\n",
       "      <td>...</td>\n",
       "      <td>...</td>\n",
       "      <td>...</td>\n",
       "      <td>...</td>\n",
       "      <td>...</td>\n",
       "      <td>...</td>\n",
       "      <td>...</td>\n",
       "      <td>...</td>\n",
       "      <td>...</td>\n",
       "      <td>...</td>\n",
       "      <td>...</td>\n",
       "      <td>...</td>\n",
       "      <td>...</td>\n",
       "      <td>...</td>\n",
       "    </tr>\n",
       "    <tr>\n",
       "      <th>2022-03-03</th>\n",
       "      <td>42449.2</td>\n",
       "      <td>43912.8</td>\n",
       "      <td>44077.2</td>\n",
       "      <td>41840.8</td>\n",
       "      <td>54.653749</td>\n",
       "      <td>10.740591</td>\n",
       "      <td>10.610242</td>\n",
       "      <td>10.479892</td>\n",
       "      <td>0.084504</td>\n",
       "      <td>0.176195</td>\n",
       "      <td>0.913484</td>\n",
       "      <td>4.343438</td>\n",
       "      <td>0.050493</td>\n",
       "      <td>57.935356</td>\n",
       "      <td>-0.105960</td>\n",
       "    </tr>\n",
       "    <tr>\n",
       "      <th>2022-03-06</th>\n",
       "      <td>37951.3</td>\n",
       "      <td>39468.9</td>\n",
       "      <td>38543.2</td>\n",
       "      <td>37597.7</td>\n",
       "      <td>43.838689</td>\n",
       "      <td>10.736968</td>\n",
       "      <td>10.604933</td>\n",
       "      <td>10.472898</td>\n",
       "      <td>0.192882</td>\n",
       "      <td>0.071187</td>\n",
       "      <td>1.157787</td>\n",
       "      <td>5.424304</td>\n",
       "      <td>-0.131578</td>\n",
       "      <td>47.015345</td>\n",
       "      <td>0.014129</td>\n",
       "    </tr>\n",
       "    <tr>\n",
       "      <th>2022-03-07</th>\n",
       "      <td>38487.5</td>\n",
       "      <td>37931.7</td>\n",
       "      <td>38935.0</td>\n",
       "      <td>37886.6</td>\n",
       "      <td>45.230091</td>\n",
       "      <td>10.732980</td>\n",
       "      <td>10.600674</td>\n",
       "      <td>10.468368</td>\n",
       "      <td>0.174865</td>\n",
       "      <td>0.089746</td>\n",
       "      <td>1.075734</td>\n",
       "      <td>5.161253</td>\n",
       "      <td>-0.245968</td>\n",
       "      <td>48.302288</td>\n",
       "      <td>0.081473</td>\n",
       "    </tr>\n",
       "    <tr>\n",
       "      <th>2022-03-08</th>\n",
       "      <td>41623.2</td>\n",
       "      <td>38558.0</td>\n",
       "      <td>41793.9</td>\n",
       "      <td>38663.3</td>\n",
       "      <td>52.622412</td>\n",
       "      <td>10.726853</td>\n",
       "      <td>10.598488</td>\n",
       "      <td>10.470122</td>\n",
       "      <td>0.090416</td>\n",
       "      <td>0.166315</td>\n",
       "      <td>1.182948</td>\n",
       "      <td>4.998943</td>\n",
       "      <td>-0.167280</td>\n",
       "      <td>54.537696</td>\n",
       "      <td>-0.047454</td>\n",
       "    </tr>\n",
       "    <tr>\n",
       "      <th>2022-03-09</th>\n",
       "      <td>39648.0</td>\n",
       "      <td>41637.0</td>\n",
       "      <td>42029.1</td>\n",
       "      <td>39466.2</td>\n",
       "      <td>48.208500</td>\n",
       "      <td>10.714998</td>\n",
       "      <td>10.593448</td>\n",
       "      <td>10.471898</td>\n",
       "      <td>0.127177</td>\n",
       "      <td>0.115923</td>\n",
       "      <td>1.222113</td>\n",
       "      <td>5.334851</td>\n",
       "      <td>-0.211013</td>\n",
       "      <td>42.015853</td>\n",
       "      <td>-0.029182</td>\n",
       "    </tr>\n",
       "  </tbody>\n",
       "</table>\n",
       "<p>996 rows × 15 columns</p>\n",
       "</div>"
      ],
      "text/plain": [
       "              close     open     high      low        rsi    bb_high  \\\n",
       "date                                                                   \n",
       "2019-05-25   8015.8   8009.9   8046.5   7997.6  72.124449   9.116024   \n",
       "2019-05-26   8666.6   7986.2   8838.9   8627.9  77.228970   9.126078   \n",
       "2019-05-27   8782.5   8745.3   8794.1   8724.6  78.001551   9.129008   \n",
       "2019-05-28   8644.5   8772.6   8715.6   8617.6  74.749552   9.126294   \n",
       "2019-05-29   8590.6   8656.4   8715.1   8558.5  73.461302   9.117993   \n",
       "...             ...      ...      ...      ...        ...        ...   \n",
       "2022-03-03  42449.2  43912.8  44077.2  41840.8  54.653749  10.740591   \n",
       "2022-03-06  37951.3  39468.9  38543.2  37597.7  43.838689  10.736968   \n",
       "2022-03-07  38487.5  37931.7  38935.0  37886.6  45.230091  10.732980   \n",
       "2022-03-08  41623.2  38558.0  41793.9  38663.3  52.622412  10.726853   \n",
       "2022-03-09  39648.0  41637.0  42029.1  39466.2  48.208500  10.714998   \n",
       "\n",
       "               bb_mid     bb_low     bb_up   bb_down       atr      natr  \\\n",
       "date                                                                       \n",
       "2019-05-25   8.894723   8.673422  0.126729  0.315872 -0.842657  3.735326   \n",
       "2019-05-26   8.913573   8.701069  0.058730  0.366278 -0.800121  3.886440   \n",
       "2019-05-27   8.933630   8.738252  0.048377  0.342378 -0.817123  3.664909   \n",
       "2019-05-28   8.951213   8.776132  0.061499  0.288662 -0.829873  3.593712   \n",
       "2019-05-29   8.967312   8.816632  0.059452  0.241909 -0.842386  3.488165   \n",
       "...               ...        ...       ...       ...       ...       ...   \n",
       "2022-03-03  10.610242  10.479892  0.084504  0.176195  0.913484  4.343438   \n",
       "2022-03-06  10.604933  10.472898  0.192882  0.071187  1.157787  5.424304   \n",
       "2022-03-07  10.600674  10.468368  0.174865  0.089746  1.075734  5.161253   \n",
       "2022-03-08  10.598488  10.470122  0.090416  0.166315  1.182948  4.998943   \n",
       "2022-03-09  10.593448  10.471898  0.127177  0.115923  1.222113  5.334851   \n",
       "\n",
       "                macd     ULTOSC    Target  \n",
       "date                                       \n",
       "2019-05-25  0.526725  51.734117  0.081190  \n",
       "2019-05-26  0.529964  60.182545  0.013373  \n",
       "2019-05-27  0.530787  61.370544 -0.015713  \n",
       "2019-05-28  0.516155  59.262653 -0.006235  \n",
       "2019-05-29  0.494069  62.278006 -0.028892  \n",
       "...              ...        ...       ...  \n",
       "2022-03-03  0.050493  57.935356 -0.105960  \n",
       "2022-03-06 -0.131578  47.015345  0.014129  \n",
       "2022-03-07 -0.245968  48.302288  0.081473  \n",
       "2022-03-08 -0.167280  54.537696 -0.047454  \n",
       "2022-03-09 -0.211013  42.015853 -0.029182  \n",
       "\n",
       "[996 rows x 15 columns]"
      ]
     },
     "execution_count": 44,
     "metadata": {},
     "output_type": "execute_result"
    }
   ],
   "source": [
    "with pd.HDFStore('data.h5') as store:\n",
    "    data =store['CRYPTO/DAILY']\n",
    "data.info()\n",
    "data"
   ]
  },
  {
   "cell_type": "code",
   "execution_count": 7,
   "metadata": {},
   "outputs": [],
   "source": [
    "y = data.Target\n",
    "y_binary = (y > 0).astype(int)\n",
    "X = pd.get_dummies(data.drop('Target', axis=1))"
   ]
  },
  {
   "cell_type": "code",
   "execution_count": 8,
   "metadata": {},
   "outputs": [],
   "source": [
    "\n",
    "X_train_binary, X_test_binary, y_train_binary, y_test_binary = train_test_split(X, y_binary, test_size=0.2, random_state=42)\n",
    "\n",
    "X_train, X_test, y_train, y_test = train_test_split(X, y, test_size=0.2, random_state=42)\n"
   ]
  },
  {
   "cell_type": "markdown",
   "metadata": {},
   "source": [
    "##  Random Forests\n",
    "### Cross Validation Parameters"
   ]
  },
  {
   "cell_type": "code",
   "execution_count": 9,
   "metadata": {},
   "outputs": [],
   "source": [
    "n_splits = 10\n",
    "train_period_length = 60\n",
    "test_period_length = 6\n",
    "lookahead = 1\n",
    "\n",
    "cv = MultipleTimeSeriesCV(n_splits=n_splits,\n",
    "                          train_period_length=train_period_length,\n",
    "                          test_period_length=test_period_length,\n",
    "                          lookahead=lookahead)"
   ]
  },
  {
   "cell_type": "markdown",
   "metadata": {},
   "source": [
    "Classifier"
   ]
  },
  {
   "cell_type": "code",
   "execution_count": 10,
   "metadata": {},
   "outputs": [],
   "source": [
    "rf_clf = RandomForestClassifier(n_estimators=100,             # default changed from 10 to 100 in version 0.22 \n",
    "                                criterion='gini', \n",
    "                                max_depth=None, \n",
    "                                min_samples_split=2, \n",
    "                                min_samples_leaf=1, \n",
    "                                min_weight_fraction_leaf=0.0, \n",
    "                                max_features='auto',\n",
    "                                max_leaf_nodes=None, \n",
    "                                min_impurity_decrease=0.0, \n",
    "                                min_impurity_split=None, \n",
    "                                bootstrap=True, \n",
    "                                oob_score=True, \n",
    "                                n_jobs=-1,\n",
    "                                random_state=42, \n",
    "                                verbose=1)"
   ]
  },
  {
   "cell_type": "markdown",
   "metadata": {},
   "source": [
    "Cross Validation with Default Settings"
   ]
  },
  {
   "cell_type": "code",
   "execution_count": 11,
   "metadata": {},
   "outputs": [
    {
     "name": "stderr",
     "output_type": "stream",
     "text": [
      "[Parallel(n_jobs=-1)]: Using backend LokyBackend with 8 concurrent workers.\n",
      "[Parallel(n_jobs=-1)]: Done   6 out of  10 | elapsed:    4.5s remaining:    3.0s\n",
      "[Parallel(n_jobs=-1)]: Done  10 out of  10 | elapsed:    4.7s finished\n"
     ]
    }
   ],
   "source": [
    "cv_score = cross_val_score(estimator=rf_clf,\n",
    "                           X=X_train_binary,\n",
    "                           y=y_train_binary,\n",
    "                           scoring='roc_auc',\n",
    "                           cv=cv,\n",
    "                           n_jobs=-1,\n",
    "                           verbose=1)"
   ]
  },
  {
   "cell_type": "code",
   "execution_count": 12,
   "metadata": {},
   "outputs": [
    {
     "data": {
      "text/plain": [
       "0.6981944444444445"
      ]
     },
     "execution_count": 12,
     "metadata": {},
     "output_type": "execute_result"
    }
   ],
   "source": [
    "\n",
    "\n",
    "np.mean(cv_score)\n",
    "\n"
   ]
  },
  {
   "cell_type": "code",
   "execution_count": 13,
   "metadata": {},
   "outputs": [
    {
     "name": "stderr",
     "output_type": "stream",
     "text": [
      "[Parallel(n_jobs=-1)]: Using backend ThreadingBackend with 8 concurrent workers.\n",
      "[Parallel(n_jobs=-1)]: Done  34 tasks      | elapsed:    0.0s\n",
      "[Parallel(n_jobs=-1)]: Done 100 out of 100 | elapsed:    0.1s finished\n",
      "[Parallel(n_jobs=8)]: Using backend ThreadingBackend with 8 concurrent workers.\n",
      "[Parallel(n_jobs=8)]: Done  34 tasks      | elapsed:    0.0s\n",
      "[Parallel(n_jobs=8)]: Done 100 out of 100 | elapsed:    0.0s finished\n"
     ]
    },
    {
     "data": {
      "text/plain": [
       "0.54"
      ]
     },
     "execution_count": 13,
     "metadata": {},
     "output_type": "execute_result"
    }
   ],
   "source": [
    "rf_clf.fit(X_train_binary,y_train_binary)\n",
    "y_predict_test_binary = rf_clf.predict(X_test_binary)\n",
    "accuracy_score(y_test_binary,y_predict_test_binary)"
   ]
  },
  {
   "cell_type": "markdown",
   "metadata": {},
   "source": [
    "## Regression RF"
   ]
  },
  {
   "cell_type": "code",
   "execution_count": 14,
   "metadata": {},
   "outputs": [],
   "source": [
    "\n",
    "\n",
    "def rank_correl(y, y_pred):\n",
    "    return spearmanr(y, y_pred)[0]\n",
    "\n",
    "ic = make_scorer(rank_correl)\n",
    "\n"
   ]
  },
  {
   "cell_type": "code",
   "execution_count": 15,
   "metadata": {},
   "outputs": [],
   "source": [
    "rf_reg = RandomForestRegressor(n_estimators=100, \n",
    "                                max_depth=None, \n",
    "                                min_samples_split=2, \n",
    "                                min_samples_leaf=1, \n",
    "                                min_weight_fraction_leaf=0.0, \n",
    "                                max_features='auto', \n",
    "                                max_leaf_nodes=None, \n",
    "                                min_impurity_decrease=0.0, \n",
    "                                min_impurity_split=None, \n",
    "                                bootstrap=True, \n",
    "                                oob_score=False, \n",
    "                                n_jobs=-1, \n",
    "                                random_state=None, \n",
    "                                verbose=0, \n",
    "                                warm_start=False)"
   ]
  },
  {
   "cell_type": "code",
   "execution_count": 16,
   "metadata": {},
   "outputs": [
    {
     "name": "stderr",
     "output_type": "stream",
     "text": [
      "[Parallel(n_jobs=-1)]: Using backend LokyBackend with 8 concurrent workers.\n",
      "[Parallel(n_jobs=-1)]: Done   6 out of  10 | elapsed:    0.2s remaining:    0.1s\n",
      "[Parallel(n_jobs=-1)]: Done  10 out of  10 | elapsed:    0.5s finished\n"
     ]
    }
   ],
   "source": [
    "cv_score = cross_val_score(estimator=rf_reg,\n",
    "                           X=X_train,\n",
    "                           y=y_train,\n",
    "                           scoring=ic,\n",
    "                           cv=cv,\n",
    "                           n_jobs=-1,\n",
    "                           verbose=1)"
   ]
  },
  {
   "cell_type": "code",
   "execution_count": 17,
   "metadata": {},
   "outputs": [
    {
     "data": {
      "text/plain": [
       "0.26857142857142857"
      ]
     },
     "execution_count": 17,
     "metadata": {},
     "output_type": "execute_result"
    }
   ],
   "source": [
    "np.mean(cv_score)"
   ]
  },
  {
   "cell_type": "code",
   "execution_count": 41,
   "metadata": {},
   "outputs": [
    {
     "data": {
      "text/plain": [
       "<matplotlib.legend.Legend at 0x20efce0a430>"
      ]
     },
     "execution_count": 41,
     "metadata": {},
     "output_type": "execute_result"
    },
    {
     "data": {
      "image/png": "[encoded data removed]",
      "text/plain": [
       "<Figure size 432x288 with 1 Axes>"
      ]
     },
     "metadata": {},
     "output_type": "display_data"
    }
   ],
   "source": [
    "rf_reg.fit(X_train,y_train)\n",
    "y_predict_test = rf_reg.predict(X_test)\n",
    "plt.plot(np.arange(0,len(y_predict_test),1),np.cumsum(y_predict_test*y_test_binary),label ='Predicted')\n",
    "plt.plot(np.arange(0,len(y_predict_test),1),np.cumsum(y_test),label='Actual')\n",
    "plt.legend()"
   ]
  },
  {
   "cell_type": "markdown",
   "metadata": {},
   "source": [
    "Parameter Tuning using GridSearchCV"
   ]
  },
  {
   "cell_type": "code",
   "execution_count": 19,
   "metadata": {},
   "outputs": [],
   "source": [
    "\n",
    "\n",
    "param_grid = {'n_estimators': [50, 100, 250],\n",
    "              'max_depth': [5, 15, None],\n",
    "              'min_samples_leaf': [5, 25, 100]}\n",
    "\n"
   ]
  },
  {
   "cell_type": "code",
   "execution_count": 20,
   "metadata": {},
   "outputs": [],
   "source": [
    "\n",
    "\n",
    "gridsearch_clf = GridSearchCV(estimator=rf_clf,\n",
    "                              param_grid=param_grid,\n",
    "                              scoring='roc_auc',\n",
    "                              n_jobs=-1,\n",
    "                              cv=cv,\n",
    "                              refit=True,\n",
    "                              return_train_score=True,\n",
    "                              verbose=1)\n",
    "\n"
   ]
  },
  {
   "cell_type": "code",
   "execution_count": 21,
   "metadata": {},
   "outputs": [
    {
     "name": "stdout",
     "output_type": "stream",
     "text": [
      "Fitting 10 folds for each of 27 candidates, totalling 270 fits\n"
     ]
    },
    {
     "name": "stderr",
     "output_type": "stream",
     "text": [
      "[Parallel(n_jobs=-1)]: Using backend ThreadingBackend with 8 concurrent workers.\n",
      "[Parallel(n_jobs=-1)]: Done  34 tasks      | elapsed:    0.0s\n",
      "[Parallel(n_jobs=-1)]: Done  50 out of  50 | elapsed:    0.0s finished\n"
     ]
    },
    {
     "data": {
      "text/plain": [
       "GridSearchCV(cv=<utils.MultipleTimeSeriesCV object at 0x0000020ED7881370>,\n",
       "             estimator=RandomForestClassifier(n_jobs=-1, oob_score=True,\n",
       "                                              random_state=42, verbose=1),\n",
       "             n_jobs=-1,\n",
       "             param_grid={'max_depth': [5, 15, None],\n",
       "                         'min_samples_leaf': [5, 25, 100],\n",
       "                         'n_estimators': [50, 100, 250]},\n",
       "             return_train_score=True, scoring='roc_auc', verbose=1)"
      ]
     },
     "execution_count": 21,
     "metadata": {},
     "output_type": "execute_result"
    }
   ],
   "source": [
    "\n",
    "\n",
    "gridsearch_clf.fit(X=X_train_binary, y=y_train_binary)\n",
    "\n"
   ]
  },
  {
   "cell_type": "code",
   "execution_count": 22,
   "metadata": {},
   "outputs": [
    {
     "data": {
      "text/plain": [
       "['results\\\\random_forest\\\\gridsearch_clf.joblib']"
      ]
     },
     "execution_count": 22,
     "metadata": {},
     "output_type": "execute_result"
    }
   ],
   "source": [
    "joblib.dump(gridsearch_clf, results_path / 'gridsearch_clf.joblib') "
   ]
  },
  {
   "cell_type": "code",
   "execution_count": 23,
   "metadata": {},
   "outputs": [],
   "source": [
    "gridsearch_clf = joblib.load(results_path / 'gridsearch_clf.joblib') "
   ]
  },
  {
   "cell_type": "code",
   "execution_count": 24,
   "metadata": {},
   "outputs": [
    {
     "data": {
      "text/plain": [
       "{'max_depth': 5, 'min_samples_leaf': 5, 'n_estimators': 50}"
      ]
     },
     "execution_count": 24,
     "metadata": {},
     "output_type": "execute_result"
    }
   ],
   "source": [
    "gridsearch_clf.best_params_"
   ]
  },
  {
   "cell_type": "code",
   "execution_count": 25,
   "metadata": {},
   "outputs": [
    {
     "data": {
      "text/plain": [
       "0.6119444444444445"
      ]
     },
     "execution_count": 25,
     "metadata": {},
     "output_type": "execute_result"
    }
   ],
   "source": [
    "gridsearch_clf.best_score_"
   ]
  },
  {
   "cell_type": "code",
   "execution_count": 26,
   "metadata": {},
   "outputs": [
    {
     "name": "stdout",
     "output_type": "stream",
     "text": [
      "Fitting 10 folds for each of 27 candidates, totalling 270 fits\n"
     ]
    },
    {
     "name": "stderr",
     "output_type": "stream",
     "text": [
      "[Parallel(n_jobs=-1)]: Using backend ThreadingBackend with 8 concurrent workers.\n",
      "[Parallel(n_jobs=-1)]: Done  34 tasks      | elapsed:    0.0s\n",
      "[Parallel(n_jobs=-1)]: Done  50 out of  50 | elapsed:    0.0s finished\n",
      "[Parallel(n_jobs=8)]: Using backend ThreadingBackend with 8 concurrent workers.\n",
      "[Parallel(n_jobs=8)]: Done  34 tasks      | elapsed:    0.0s\n",
      "[Parallel(n_jobs=8)]: Done  50 out of  50 | elapsed:    0.0s finished\n"
     ]
    },
    {
     "data": {
      "text/plain": [
       "0.55"
      ]
     },
     "execution_count": 26,
     "metadata": {},
     "output_type": "execute_result"
    }
   ],
   "source": [
    "gridsearch_clf.fit(X_train_binary,y_train_binary)\n",
    "y_predict_test_binary = gridsearch_clf.predict(X_test_binary)\n",
    "accuracy_score(y_test_binary,y_predict_test_binary)"
   ]
  },
  {
   "cell_type": "code",
   "execution_count": 27,
   "metadata": {},
   "outputs": [
    {
     "data": {
      "text/plain": [
       "<matplotlib.legend.Legend at 0x20efa92a5b0>"
      ]
     },
     "execution_count": 27,
     "metadata": {},
     "output_type": "execute_result"
    },
    {
     "data": {
      "image/png": "[encoded data removed]",
      "text/plain": [
       "<Figure size 432x288 with 1 Axes>"
      ]
     },
     "metadata": {},
     "output_type": "display_data"
    }
   ],
   "source": [
    "pred_returns = y_predict_test_binary*y_test\n",
    "plt.plot(np.arange(0,len(pred_returns),1),np.cumsum(pred_returns),label ='Model')\n",
    "plt.plot(np.arange(0,len(pred_returns),1),np.cumsum(y_test),label='Actual')\n",
    "plt.legend()"
   ]
  },
  {
   "cell_type": "code",
   "execution_count": 28,
   "metadata": {},
   "outputs": [
    {
     "data": {
      "image/png": "[encoded data removed]",
      "text/plain": [
       "<Figure size 864x360 with 1 Axes>"
      ]
     },
     "metadata": {},
     "output_type": "display_data"
    }
   ],
   "source": [
    "fig, ax = plt.subplots(figsize=(12,5))\n",
    "(pd.Series(gridsearch_clf.best_estimator_.feature_importances_, \n",
    "           index=X.columns)\n",
    " .sort_values(ascending=False)\n",
    " .iloc[:20]\n",
    " .sort_values()\n",
    " .plot.barh(ax=ax, title='RF Feature Importance'))\n",
    "sns.despine()\n",
    "fig.tight_layout()"
   ]
  },
  {
   "cell_type": "markdown",
   "metadata": {},
   "source": [
    "The above obtained figure shows the Normalised Feature Importance for each featured as given by SKlearn."
   ]
  },
  {
   "cell_type": "markdown",
   "metadata": {},
   "source": [
    "CV Tuning for the regressor and fitting"
   ]
  },
  {
   "cell_type": "code",
   "execution_count": 29,
   "metadata": {},
   "outputs": [],
   "source": [
    "gridsearch_reg = GridSearchCV(estimator=rf_reg,\n",
    "                      param_grid=param_grid,\n",
    "                      scoring=ic,\n",
    "                      n_jobs=-1,\n",
    "                      cv=cv,\n",
    "                      refit=True,\n",
    "                      return_train_score=True,\n",
    "                      verbose=1)"
   ]
  },
  {
   "cell_type": "code",
   "execution_count": 30,
   "metadata": {},
   "outputs": [
    {
     "name": "stdout",
     "output_type": "stream",
     "text": [
      "Fitting 10 folds for each of 27 candidates, totalling 270 fits\n"
     ]
    },
    {
     "data": {
      "text/plain": [
       "GridSearchCV(cv=<utils.MultipleTimeSeriesCV object at 0x0000020ED7881370>,\n",
       "             estimator=RandomForestRegressor(n_jobs=-1), n_jobs=-1,\n",
       "             param_grid={'max_depth': [5, 15, None],\n",
       "                         'min_samples_leaf': [5, 25, 100],\n",
       "                         'n_estimators': [50, 100, 250]},\n",
       "             return_train_score=True, scoring=make_scorer(rank_correl),\n",
       "             verbose=1)"
      ]
     },
     "execution_count": 30,
     "metadata": {},
     "output_type": "execute_result"
    }
   ],
   "source": [
    "gridsearch_reg.fit(X=X_train, y=y_train)"
   ]
  },
  {
   "cell_type": "code",
   "execution_count": 31,
   "metadata": {},
   "outputs": [
    {
     "data": {
      "text/plain": [
       "['results\\\\random_forest\\\\rf_reg_gridsearch.joblib']"
      ]
     },
     "execution_count": 31,
     "metadata": {},
     "output_type": "execute_result"
    }
   ],
   "source": [
    "\n",
    "\n",
    "joblib.dump(gridsearch_reg, results_path / 'rf_reg_gridsearch.joblib') \n",
    "\n"
   ]
  },
  {
   "cell_type": "code",
   "execution_count": 32,
   "metadata": {},
   "outputs": [],
   "source": [
    "gridsearch_reg = joblib.load(results_path / 'rf_reg_gridsearch.joblib') "
   ]
  },
  {
   "cell_type": "code",
   "execution_count": 33,
   "metadata": {},
   "outputs": [
    {
     "data": {
      "text/plain": [
       "{'max_depth': 5, 'min_samples_leaf': 5, 'n_estimators': 250}"
      ]
     },
     "execution_count": 33,
     "metadata": {},
     "output_type": "execute_result"
    }
   ],
   "source": [
    "\n",
    "\n",
    "gridsearch_reg.best_params_\n",
    "\n"
   ]
  },
  {
   "cell_type": "code",
   "execution_count": 34,
   "metadata": {},
   "outputs": [
    {
     "data": {
      "text/plain": [
       "'22.29'"
      ]
     },
     "execution_count": 34,
     "metadata": {},
     "output_type": "execute_result"
    }
   ],
   "source": [
    "f'{gridsearch_reg.best_score_*100:.2f}'"
   ]
  },
  {
   "cell_type": "code",
   "execution_count": 35,
   "metadata": {},
   "outputs": [
    {
     "data": {
      "text/plain": [
       "<matplotlib.legend.Legend at 0x20efbbe0880>"
      ]
     },
     "execution_count": 35,
     "metadata": {},
     "output_type": "execute_result"
    },
    {
     "data": {
      "image/png": "[encoded data removed]",
      "text/plain": [
       "<Figure size 432x288 with 1 Axes>"
      ]
     },
     "metadata": {},
     "output_type": "display_data"
    }
   ],
   "source": [
    "y_predict_test = gridsearch_reg.predict(X_test)\n",
    "plt.plot(np.arange(0,len(y_predict_test),1),np.cumsum(y_predict_test),label ='Predicted')\n",
    "plt.plot(np.arange(0,len(y_predict_test),1),np.cumsum(y_test),label='Actual')\n",
    "plt.legend()"
   ]
  },
  {
   "cell_type": "markdown",
   "metadata": {},
   "source": [
    "Result Comparison"
   ]
  },
  {
   "cell_type": "code",
   "execution_count": 36,
   "metadata": {},
   "outputs": [
    {
     "data": {
      "text/html": [
       "<div>\n",
       "<style scoped>\n",
       "    .dataframe tbody tr th:only-of-type {\n",
       "        vertical-align: middle;\n",
       "    }\n",
       "\n",
       "    .dataframe tbody tr th {\n",
       "        vertical-align: top;\n",
       "    }\n",
       "\n",
       "    .dataframe thead th {\n",
       "        text-align: right;\n",
       "    }\n",
       "</style>\n",
       "<table border=\"1\" class=\"dataframe\">\n",
       "  <thead>\n",
       "    <tr style=\"text-align: right;\">\n",
       "      <th></th>\n",
       "      <th>Regression</th>\n",
       "      <th>Classification</th>\n",
       "    </tr>\n",
       "  </thead>\n",
       "  <tbody>\n",
       "    <tr>\n",
       "      <th>max_depth</th>\n",
       "      <td>5</td>\n",
       "      <td>5</td>\n",
       "    </tr>\n",
       "    <tr>\n",
       "      <th>min_samples_leaf</th>\n",
       "      <td>5</td>\n",
       "      <td>5</td>\n",
       "    </tr>\n",
       "    <tr>\n",
       "      <th>n_estimators</th>\n",
       "      <td>250</td>\n",
       "      <td>50</td>\n",
       "    </tr>\n",
       "  </tbody>\n",
       "</table>\n",
       "</div>"
      ],
      "text/plain": [
       "                  Regression  Classification\n",
       "max_depth                  5               5\n",
       "min_samples_leaf           5               5\n",
       "n_estimators             250              50"
      ]
     },
     "execution_count": 36,
     "metadata": {},
     "output_type": "execute_result"
    }
   ],
   "source": [
    "pd.DataFrame({'Regression': pd.Series(gridsearch_reg.best_params_),\n",
    "              'Classification': pd.Series(gridsearch_clf.best_params_)})"
   ]
  },
  {
   "cell_type": "markdown",
   "metadata": {},
   "source": [
    "Feature Importance"
   ]
  },
  {
   "cell_type": "code",
   "execution_count": 37,
   "metadata": {},
   "outputs": [],
   "source": [
    "fi_clf = gridsearch_clf.best_estimator_.feature_importances_\n",
    "fi_reg = gridsearch_reg.best_estimator_.feature_importances_"
   ]
  },
  {
   "cell_type": "code",
   "execution_count": 38,
   "metadata": {},
   "outputs": [],
   "source": [
    "\n",
    "\n",
    "idx = [c.replace('_', ' ').upper() for c in X.columns]\n",
    "\n"
   ]
  },
  {
   "cell_type": "code",
   "execution_count": 39,
   "metadata": {},
   "outputs": [
    {
     "data": {
      "image/png": "[encoded data removed]",
      "text/plain": [
       "<Figure size 1008x288 with 2 Axes>"
      ]
     },
     "metadata": {},
     "output_type": "display_data"
    }
   ],
   "source": [
    "fig, axes = plt.subplots(figsize=(14, 4), ncols=2)\n",
    "(pd.Series(fi_clf, index=idx)\n",
    " .sort_values(ascending=False)\n",
    " .iloc[:15]\n",
    " .sort_values()\n",
    " .plot.barh(ax=axes[1], title='Classifier'))\n",
    "(pd.Series(fi_reg, index=idx)\n",
    " .sort_values(ascending=False)\n",
    " .iloc[:15]\n",
    " .sort_values()\n",
    " .plot.barh(ax=axes[0], title='Regression'))\n",
    "sns.despine()\n",
    "fig.tight_layout()"
   ]
  },
  {
   "cell_type": "code",
   "execution_count": 43,
   "metadata": {},
   "outputs": [
    {
     "data": {
      "text/plain": [
       "<matplotlib.legend.Legend at 0x20efd087790>"
      ]
     },
     "execution_count": 43,
     "metadata": {},
     "output_type": "execute_result"
    },
    {
     "data": {
      "image/png": "[encoded data removed]",
      "text/plain": [
       "<Figure size 432x288 with 1 Axes>"
      ]
     },
     "metadata": {},
     "output_type": "display_data"
    }
   ],
   "source": [
    "y_predict_test_regression = (y_predict_test > 0).astype(int)\n",
    "pred_returns_classification = y_predict_test_binary*y_test\n",
    "pred_returns_regression = y_predict_test_regression*y_test\n",
    "random_predict = np.random.random(len(pred_returns))\n",
    "pred_returns_random = y_test*random_predict\n",
    "plt.plot(np.arange(0,len(pred_returns),1),np.cumsum(pred_returns_classification),label ='Classification')\n",
    "plt.plot(np.arange(0,len(pred_returns),1),np.cumsum(pred_returns_regression),label ='Regression')\n",
    "plt.plot(np.arange(0,len(pred_returns),1),np.cumsum(pred_returns_random),label ='Random')\n",
    "plt.plot(np.arange(0,len(pred_returns),1),np.cumsum(y_test),label='Actual')\n",
    "plt.legend()"
   ]
  }
 ],
 "metadata": {
  "interpreter": {
   "hash": "0fe8a5d8b8f99b3310a2ee7c9493c2e50792da40f6a7326d5e94d22de55d8459"
  },
  "kernelspec": {
   "display_name": "Python 3.8.10 64-bit",
   "language": "python",
   "name": "python3"
  },
  "language_info": {
   "codemirror_mode": {
    "name": "ipython",
    "version": 3
   },
   "file_extension": ".py",
   "mimetype": "text/x-python",
   "name": "python",
   "nbconvert_exporter": "python",
   "pygments_lexer": "ipython3",
   "version": "3.8.10"
  },
  "orig_nbformat": 4
 },
 "nbformat": 4,
 "nbformat_minor": 2
}
